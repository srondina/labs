{
  "nbformat": 4,
  "nbformat_minor": 0,
  "metadata": {
    "colab": {
      "provenance": [],
      "mount_file_id": "1eF95IYipTiRHG1KY7IZ4yrjpVink9k_O",
      "authorship_tag": "ABX9TyP+hkEN2SNvsUf4QqDsBG5b",
      "include_colab_link": true
    },
    "kernelspec": {
      "name": "python3",
      "display_name": "Python 3"
    },
    "language_info": {
      "name": "python"
    }
  },
  "cells": [
    {
      "cell_type": "markdown",
      "metadata": {
        "id": "view-in-github",
        "colab_type": "text"
      },
      "source": [
        "<a href=\"https://colab.research.google.com/github/srondina/labs/blob/main/analise_precos.ipynb\" target=\"_parent\"><img src=\"https://colab.research.google.com/assets/colab-badge.svg\" alt=\"Open In Colab\"/></a>"
      ]
    },
    {
      "cell_type": "code",
      "execution_count": null,
      "metadata": {
        "id": "V7eIBa5P9t7a"
      },
      "outputs": [],
      "source": [
        "# Analise de Precos"
      ]
    },
    {
      "cell_type": "markdown",
      "source": [
        "Informações de preços"
      ],
      "metadata": {
        "id": "POLVst25Awxy"
      }
    },
    {
      "cell_type": "code",
      "source": [
        "import pandas as pd"
      ],
      "metadata": {
        "id": "xQWgDeDvAQ-w"
      },
      "execution_count": null,
      "outputs": []
    },
    {
      "cell_type": "code",
      "source": [
        "df = pd.read_csv('HistoricoOperacao.csv')"
      ],
      "metadata": {
        "id": "lqUamnmHAUxB"
      },
      "execution_count": null,
      "outputs": []
    },
    {
      "cell_type": "code",
      "source": [
        "df.head()"
      ],
      "metadata": {
        "colab": {
          "base_uri": "https://localhost:8080/",
          "height": 386
        },
        "id": "YUGLP3WSAbRR",
        "outputId": "773b2135-397e-43f0-f86a-aa90eaac5654"
      },
      "execution_count": null,
      "outputs": [
        {
          "output_type": "execute_result",
          "data": {
            "text/plain": [
              "   Cota        Data                  DataHora      Hora Operacao  \\\n",
              "0   1.2  03/05/2023  2023-05-03T17:33:44.500Z  17:33:43   Compra   \n",
              "1   1.2  03/05/2023  2023-05-03T17:36:53.232Z  17:36:52   Compra   \n",
              "2   1.2  03/05/2023  2023-05-03T17:37:04.658Z  17:37:04   Compra   \n",
              "3   1.2  03/05/2023  2023-05-03T17:37:11.267Z  17:37:10   Compra   \n",
              "4   1.2  03/05/2023  2023-05-03T17:37:20.411Z  17:37:20   Compra   \n",
              "\n",
              "  OrdemBinance.clientOrderId  OrdemBinance.cummulativeQuoteQty  \\\n",
              "0     iilePwE2ymZcB5TKy7r3jF                           13.0932   \n",
              "1     v94jCX488prg0jpuhORloR                           13.0776   \n",
              "2     4kXDaKTpTskPzi7WIA0loD                           13.0680   \n",
              "3     W0g0XCq59HCm7pSSdHtnMq                           13.0584   \n",
              "4     OqFXGixQ4MZkES7uzPHGd8                           13.0452   \n",
              "\n",
              "   OrdemBinance.executedQty  \\\n",
              "0                       1.2   \n",
              "1                       1.2   \n",
              "2                       1.2   \n",
              "3                       1.2   \n",
              "4                       1.2   \n",
              "\n",
              "                                  OrdemBinance.fills  OrdemBinance.orderId  \\\n",
              "0  [{\"price\":\"10.91100000\",\"qty\":\"1.20000000\",\"co...            2201528438   \n",
              "1  [{\"price\":\"10.89800000\",\"qty\":\"1.20000000\",\"co...            2201531879   \n",
              "2  [{\"price\":\"10.89000000\",\"qty\":\"1.20000000\",\"co...            2201532612   \n",
              "3  [{\"price\":\"10.88200000\",\"qty\":\"1.20000000\",\"co...            2201533205   \n",
              "4  [{\"price\":\"10.87100000\",\"qty\":\"1.20000000\",\"co...            2201533952   \n",
              "\n",
              "   ...  OrdemBinance.side  OrdemBinance.status  OrdemBinance.symbol  \\\n",
              "0  ...                BUY               FILLED             ATOMUSDT   \n",
              "1  ...                BUY               FILLED             ATOMUSDT   \n",
              "2  ...                BUY               FILLED             ATOMUSDT   \n",
              "3  ...                BUY               FILLED             ATOMUSDT   \n",
              "4  ...                BUY               FILLED             ATOMUSDT   \n",
              "\n",
              "  OrdemBinance.timeInForce OrdemBinance.transactTime OrdemBinance.type  \\\n",
              "0                      GTC             1683146024384            MARKET   \n",
              "1                      GTC             1683146213042            MARKET   \n",
              "2                      GTC             1683146224542            MARKET   \n",
              "3                      GTC             1683146231152            MARKET   \n",
              "4                      GTC             1683146240296            MARKET   \n",
              "\n",
              "  OrdemBinance.workingTime    Ticker   Valor                       _id  \n",
              "0            1683146024384  ATOMUSDT  10.910  6452c5282c2a1227f89d272c  \n",
              "1            1683146213042  ATOMUSDT  10.900  6452c5e52c2a1227f89d272d  \n",
              "2            1683146224542  ATOMUSDT  10.890  6452c5f02c2a1227f89d272e  \n",
              "3            1683146231152  ATOMUSDT  10.880  6452c5f72c2a1227f89d272f  \n",
              "4            1683146240296  ATOMUSDT  10.869  6452c6002c2a1227f89d2730  \n",
              "\n",
              "[5 rows x 24 columns]"
            ],
            "text/html": [
              "\n",
              "  <div id=\"df-84c1e421-6967-4f65-b9f1-0902a0a14594\">\n",
              "    <div class=\"colab-df-container\">\n",
              "      <div>\n",
              "<style scoped>\n",
              "    .dataframe tbody tr th:only-of-type {\n",
              "        vertical-align: middle;\n",
              "    }\n",
              "\n",
              "    .dataframe tbody tr th {\n",
              "        vertical-align: top;\n",
              "    }\n",
              "\n",
              "    .dataframe thead th {\n",
              "        text-align: right;\n",
              "    }\n",
              "</style>\n",
              "<table border=\"1\" class=\"dataframe\">\n",
              "  <thead>\n",
              "    <tr style=\"text-align: right;\">\n",
              "      <th></th>\n",
              "      <th>Cota</th>\n",
              "      <th>Data</th>\n",
              "      <th>DataHora</th>\n",
              "      <th>Hora</th>\n",
              "      <th>Operacao</th>\n",
              "      <th>OrdemBinance.clientOrderId</th>\n",
              "      <th>OrdemBinance.cummulativeQuoteQty</th>\n",
              "      <th>OrdemBinance.executedQty</th>\n",
              "      <th>OrdemBinance.fills</th>\n",
              "      <th>OrdemBinance.orderId</th>\n",
              "      <th>...</th>\n",
              "      <th>OrdemBinance.side</th>\n",
              "      <th>OrdemBinance.status</th>\n",
              "      <th>OrdemBinance.symbol</th>\n",
              "      <th>OrdemBinance.timeInForce</th>\n",
              "      <th>OrdemBinance.transactTime</th>\n",
              "      <th>OrdemBinance.type</th>\n",
              "      <th>OrdemBinance.workingTime</th>\n",
              "      <th>Ticker</th>\n",
              "      <th>Valor</th>\n",
              "      <th>_id</th>\n",
              "    </tr>\n",
              "  </thead>\n",
              "  <tbody>\n",
              "    <tr>\n",
              "      <th>0</th>\n",
              "      <td>1.2</td>\n",
              "      <td>03/05/2023</td>\n",
              "      <td>2023-05-03T17:33:44.500Z</td>\n",
              "      <td>17:33:43</td>\n",
              "      <td>Compra</td>\n",
              "      <td>iilePwE2ymZcB5TKy7r3jF</td>\n",
              "      <td>13.0932</td>\n",
              "      <td>1.2</td>\n",
              "      <td>[{\"price\":\"10.91100000\",\"qty\":\"1.20000000\",\"co...</td>\n",
              "      <td>2201528438</td>\n",
              "      <td>...</td>\n",
              "      <td>BUY</td>\n",
              "      <td>FILLED</td>\n",
              "      <td>ATOMUSDT</td>\n",
              "      <td>GTC</td>\n",
              "      <td>1683146024384</td>\n",
              "      <td>MARKET</td>\n",
              "      <td>1683146024384</td>\n",
              "      <td>ATOMUSDT</td>\n",
              "      <td>10.910</td>\n",
              "      <td>6452c5282c2a1227f89d272c</td>\n",
              "    </tr>\n",
              "    <tr>\n",
              "      <th>1</th>\n",
              "      <td>1.2</td>\n",
              "      <td>03/05/2023</td>\n",
              "      <td>2023-05-03T17:36:53.232Z</td>\n",
              "      <td>17:36:52</td>\n",
              "      <td>Compra</td>\n",
              "      <td>v94jCX488prg0jpuhORloR</td>\n",
              "      <td>13.0776</td>\n",
              "      <td>1.2</td>\n",
              "      <td>[{\"price\":\"10.89800000\",\"qty\":\"1.20000000\",\"co...</td>\n",
              "      <td>2201531879</td>\n",
              "      <td>...</td>\n",
              "      <td>BUY</td>\n",
              "      <td>FILLED</td>\n",
              "      <td>ATOMUSDT</td>\n",
              "      <td>GTC</td>\n",
              "      <td>1683146213042</td>\n",
              "      <td>MARKET</td>\n",
              "      <td>1683146213042</td>\n",
              "      <td>ATOMUSDT</td>\n",
              "      <td>10.900</td>\n",
              "      <td>6452c5e52c2a1227f89d272d</td>\n",
              "    </tr>\n",
              "    <tr>\n",
              "      <th>2</th>\n",
              "      <td>1.2</td>\n",
              "      <td>03/05/2023</td>\n",
              "      <td>2023-05-03T17:37:04.658Z</td>\n",
              "      <td>17:37:04</td>\n",
              "      <td>Compra</td>\n",
              "      <td>4kXDaKTpTskPzi7WIA0loD</td>\n",
              "      <td>13.0680</td>\n",
              "      <td>1.2</td>\n",
              "      <td>[{\"price\":\"10.89000000\",\"qty\":\"1.20000000\",\"co...</td>\n",
              "      <td>2201532612</td>\n",
              "      <td>...</td>\n",
              "      <td>BUY</td>\n",
              "      <td>FILLED</td>\n",
              "      <td>ATOMUSDT</td>\n",
              "      <td>GTC</td>\n",
              "      <td>1683146224542</td>\n",
              "      <td>MARKET</td>\n",
              "      <td>1683146224542</td>\n",
              "      <td>ATOMUSDT</td>\n",
              "      <td>10.890</td>\n",
              "      <td>6452c5f02c2a1227f89d272e</td>\n",
              "    </tr>\n",
              "    <tr>\n",
              "      <th>3</th>\n",
              "      <td>1.2</td>\n",
              "      <td>03/05/2023</td>\n",
              "      <td>2023-05-03T17:37:11.267Z</td>\n",
              "      <td>17:37:10</td>\n",
              "      <td>Compra</td>\n",
              "      <td>W0g0XCq59HCm7pSSdHtnMq</td>\n",
              "      <td>13.0584</td>\n",
              "      <td>1.2</td>\n",
              "      <td>[{\"price\":\"10.88200000\",\"qty\":\"1.20000000\",\"co...</td>\n",
              "      <td>2201533205</td>\n",
              "      <td>...</td>\n",
              "      <td>BUY</td>\n",
              "      <td>FILLED</td>\n",
              "      <td>ATOMUSDT</td>\n",
              "      <td>GTC</td>\n",
              "      <td>1683146231152</td>\n",
              "      <td>MARKET</td>\n",
              "      <td>1683146231152</td>\n",
              "      <td>ATOMUSDT</td>\n",
              "      <td>10.880</td>\n",
              "      <td>6452c5f72c2a1227f89d272f</td>\n",
              "    </tr>\n",
              "    <tr>\n",
              "      <th>4</th>\n",
              "      <td>1.2</td>\n",
              "      <td>03/05/2023</td>\n",
              "      <td>2023-05-03T17:37:20.411Z</td>\n",
              "      <td>17:37:20</td>\n",
              "      <td>Compra</td>\n",
              "      <td>OqFXGixQ4MZkES7uzPHGd8</td>\n",
              "      <td>13.0452</td>\n",
              "      <td>1.2</td>\n",
              "      <td>[{\"price\":\"10.87100000\",\"qty\":\"1.20000000\",\"co...</td>\n",
              "      <td>2201533952</td>\n",
              "      <td>...</td>\n",
              "      <td>BUY</td>\n",
              "      <td>FILLED</td>\n",
              "      <td>ATOMUSDT</td>\n",
              "      <td>GTC</td>\n",
              "      <td>1683146240296</td>\n",
              "      <td>MARKET</td>\n",
              "      <td>1683146240296</td>\n",
              "      <td>ATOMUSDT</td>\n",
              "      <td>10.869</td>\n",
              "      <td>6452c6002c2a1227f89d2730</td>\n",
              "    </tr>\n",
              "  </tbody>\n",
              "</table>\n",
              "<p>5 rows × 24 columns</p>\n",
              "</div>\n",
              "      <button class=\"colab-df-convert\" onclick=\"convertToInteractive('df-84c1e421-6967-4f65-b9f1-0902a0a14594')\"\n",
              "              title=\"Convert this dataframe to an interactive table.\"\n",
              "              style=\"display:none;\">\n",
              "        \n",
              "  <svg xmlns=\"http://www.w3.org/2000/svg\" height=\"24px\"viewBox=\"0 0 24 24\"\n",
              "       width=\"24px\">\n",
              "    <path d=\"M0 0h24v24H0V0z\" fill=\"none\"/>\n",
              "    <path d=\"M18.56 5.44l.94 2.06.94-2.06 2.06-.94-2.06-.94-.94-2.06-.94 2.06-2.06.94zm-11 1L8.5 8.5l.94-2.06 2.06-.94-2.06-.94L8.5 2.5l-.94 2.06-2.06.94zm10 10l.94 2.06.94-2.06 2.06-.94-2.06-.94-.94-2.06-.94 2.06-2.06.94z\"/><path d=\"M17.41 7.96l-1.37-1.37c-.4-.4-.92-.59-1.43-.59-.52 0-1.04.2-1.43.59L10.3 9.45l-7.72 7.72c-.78.78-.78 2.05 0 2.83L4 21.41c.39.39.9.59 1.41.59.51 0 1.02-.2 1.41-.59l7.78-7.78 2.81-2.81c.8-.78.8-2.07 0-2.86zM5.41 20L4 18.59l7.72-7.72 1.47 1.35L5.41 20z\"/>\n",
              "  </svg>\n",
              "      </button>\n",
              "      \n",
              "  <style>\n",
              "    .colab-df-container {\n",
              "      display:flex;\n",
              "      flex-wrap:wrap;\n",
              "      gap: 12px;\n",
              "    }\n",
              "\n",
              "    .colab-df-convert {\n",
              "      background-color: #E8F0FE;\n",
              "      border: none;\n",
              "      border-radius: 50%;\n",
              "      cursor: pointer;\n",
              "      display: none;\n",
              "      fill: #1967D2;\n",
              "      height: 32px;\n",
              "      padding: 0 0 0 0;\n",
              "      width: 32px;\n",
              "    }\n",
              "\n",
              "    .colab-df-convert:hover {\n",
              "      background-color: #E2EBFA;\n",
              "      box-shadow: 0px 1px 2px rgba(60, 64, 67, 0.3), 0px 1px 3px 1px rgba(60, 64, 67, 0.15);\n",
              "      fill: #174EA6;\n",
              "    }\n",
              "\n",
              "    [theme=dark] .colab-df-convert {\n",
              "      background-color: #3B4455;\n",
              "      fill: #D2E3FC;\n",
              "    }\n",
              "\n",
              "    [theme=dark] .colab-df-convert:hover {\n",
              "      background-color: #434B5C;\n",
              "      box-shadow: 0px 1px 3px 1px rgba(0, 0, 0, 0.15);\n",
              "      filter: drop-shadow(0px 1px 2px rgba(0, 0, 0, 0.3));\n",
              "      fill: #FFFFFF;\n",
              "    }\n",
              "  </style>\n",
              "\n",
              "      <script>\n",
              "        const buttonEl =\n",
              "          document.querySelector('#df-84c1e421-6967-4f65-b9f1-0902a0a14594 button.colab-df-convert');\n",
              "        buttonEl.style.display =\n",
              "          google.colab.kernel.accessAllowed ? 'block' : 'none';\n",
              "\n",
              "        async function convertToInteractive(key) {\n",
              "          const element = document.querySelector('#df-84c1e421-6967-4f65-b9f1-0902a0a14594');\n",
              "          const dataTable =\n",
              "            await google.colab.kernel.invokeFunction('convertToInteractive',\n",
              "                                                     [key], {});\n",
              "          if (!dataTable) return;\n",
              "\n",
              "          const docLinkHtml = 'Like what you see? Visit the ' +\n",
              "            '<a target=\"_blank\" href=https://colab.research.google.com/notebooks/data_table.ipynb>data table notebook</a>'\n",
              "            + ' to learn more about interactive tables.';\n",
              "          element.innerHTML = '';\n",
              "          dataTable['output_type'] = 'display_data';\n",
              "          await google.colab.output.renderOutput(dataTable, element);\n",
              "          const docLink = document.createElement('div');\n",
              "          docLink.innerHTML = docLinkHtml;\n",
              "          element.appendChild(docLink);\n",
              "        }\n",
              "      </script>\n",
              "    </div>\n",
              "  </div>\n",
              "  "
            ]
          },
          "metadata": {},
          "execution_count": 6
        }
      ]
    },
    {
      "cell_type": "code",
      "source": [
        "df.dtypes"
      ],
      "metadata": {
        "colab": {
          "base_uri": "https://localhost:8080/"
        },
        "id": "bq1pRtQIAdhz",
        "outputId": "787cb023-5bb9-4bed-d8c9-6bbef9952878"
      },
      "execution_count": null,
      "outputs": [
        {
          "output_type": "execute_result",
          "data": {
            "text/plain": [
              "Cota                                    float64\n",
              "Data                                     object\n",
              "DataHora                                 object\n",
              "Hora                                     object\n",
              "Operacao                                 object\n",
              "OrdemBinance.clientOrderId               object\n",
              "OrdemBinance.cummulativeQuoteQty        float64\n",
              "OrdemBinance.executedQty                float64\n",
              "OrdemBinance.fills                       object\n",
              "OrdemBinance.orderId                      int64\n",
              "OrdemBinance.orderListId                  int64\n",
              "OrdemBinance.origQty                    float64\n",
              "OrdemBinance.price                      float64\n",
              "OrdemBinance.selfTradePreventionMode     object\n",
              "OrdemBinance.side                        object\n",
              "OrdemBinance.status                      object\n",
              "OrdemBinance.symbol                      object\n",
              "OrdemBinance.timeInForce                 object\n",
              "OrdemBinance.transactTime                 int64\n",
              "OrdemBinance.type                        object\n",
              "OrdemBinance.workingTime                  int64\n",
              "Ticker                                   object\n",
              "Valor                                   float64\n",
              "_id                                      object\n",
              "dtype: object"
            ]
          },
          "metadata": {},
          "execution_count": 7
        }
      ]
    },
    {
      "cell_type": "code",
      "source": [
        "order = df[\"OrdemBinance.fills\"]\n"
      ],
      "metadata": {
        "id": "D5UNeFpYBBZO"
      },
      "execution_count": null,
      "outputs": []
    },
    {
      "cell_type": "code",
      "source": [
        "order.head(10)"
      ],
      "metadata": {
        "colab": {
          "base_uri": "https://localhost:8080/"
        },
        "id": "fXwjHjaSDppC",
        "outputId": "88ffb1f8-b893-474f-e221-a183a258bb6f"
      },
      "execution_count": null,
      "outputs": [
        {
          "output_type": "execute_result",
          "data": {
            "text/plain": [
              "0    [{\"price\":\"10.91100000\",\"qty\":\"1.20000000\",\"co...\n",
              "1    [{\"price\":\"10.89800000\",\"qty\":\"1.20000000\",\"co...\n",
              "2    [{\"price\":\"10.89000000\",\"qty\":\"1.20000000\",\"co...\n",
              "3    [{\"price\":\"10.88200000\",\"qty\":\"1.20000000\",\"co...\n",
              "4    [{\"price\":\"10.87100000\",\"qty\":\"1.20000000\",\"co...\n",
              "5    [{\"price\":\"10.95000000\",\"qty\":\"1.20000000\",\"co...\n",
              "6    [{\"price\":\"10.96000000\",\"qty\":\"1.20000000\",\"co...\n",
              "7    [{\"price\":\"10.97000000\",\"qty\":\"1.20000000\",\"co...\n",
              "8    [{\"price\":\"10.97700000\",\"qty\":\"1.20000000\",\"co...\n",
              "9    [{\"price\":\"10.99500000\",\"qty\":\"1.20000000\",\"co...\n",
              "Name: OrdemBinance.fills, dtype: object"
            ]
          },
          "metadata": {},
          "execution_count": 9
        }
      ]
    },
    {
      "cell_type": "code",
      "source": [],
      "metadata": {
        "id": "ZuDB2r5zDso3"
      },
      "execution_count": null,
      "outputs": []
    }
  ]
}